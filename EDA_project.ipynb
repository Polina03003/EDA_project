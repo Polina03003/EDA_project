{
 "cells": [
  {
   "cell_type": "code",
   "execution_count": 32,
   "id": "3cd30336",
   "metadata": {},
   "outputs": [],
   "source": [
    "#В данном ноутбуке проведем разведывательный анализ данных для выбранного датасета abalone.csv."
   ]
  },
  {
   "cell_type": "code",
   "execution_count": null,
   "id": "68fad5b4",
   "metadata": {},
   "outputs": [],
   "source": [
    "import numpy as np\n",
    "import pandas as pd\n",
    "import matplotlib.pyplot as plt\n",
    "import seaborn as sns"
   ]
  },
  {
   "cell_type": "code",
   "execution_count": 144,
   "id": "2be42f12",
   "metadata": {},
   "outputs": [
    {
     "data": {
      "text/html": [
       "<div>\n",
       "<style scoped>\n",
       "    .dataframe tbody tr th:only-of-type {\n",
       "        vertical-align: middle;\n",
       "    }\n",
       "\n",
       "    .dataframe tbody tr th {\n",
       "        vertical-align: top;\n",
       "    }\n",
       "\n",
       "    .dataframe thead th {\n",
       "        text-align: right;\n",
       "    }\n",
       "</style>\n",
       "<table border=\"1\" class=\"dataframe\">\n",
       "  <thead>\n",
       "    <tr style=\"text-align: right;\">\n",
       "      <th></th>\n",
       "      <th>Sex</th>\n",
       "      <th>Length</th>\n",
       "      <th>Diameter</th>\n",
       "      <th>Height</th>\n",
       "      <th>Whole weight</th>\n",
       "      <th>Shucked weight</th>\n",
       "      <th>Viscera weight</th>\n",
       "      <th>Shell weight</th>\n",
       "      <th>Rings</th>\n",
       "    </tr>\n",
       "  </thead>\n",
       "  <tbody>\n",
       "    <tr>\n",
       "      <th>0</th>\n",
       "      <td>M</td>\n",
       "      <td>0.455</td>\n",
       "      <td>0.365</td>\n",
       "      <td>0.095</td>\n",
       "      <td>0.5140</td>\n",
       "      <td>0.2245</td>\n",
       "      <td>0.1010</td>\n",
       "      <td>0.150</td>\n",
       "      <td>15</td>\n",
       "    </tr>\n",
       "    <tr>\n",
       "      <th>1</th>\n",
       "      <td>M</td>\n",
       "      <td>0.350</td>\n",
       "      <td>0.265</td>\n",
       "      <td>0.090</td>\n",
       "      <td>0.2255</td>\n",
       "      <td>0.0995</td>\n",
       "      <td>0.0485</td>\n",
       "      <td>0.070</td>\n",
       "      <td>7</td>\n",
       "    </tr>\n",
       "    <tr>\n",
       "      <th>2</th>\n",
       "      <td>F</td>\n",
       "      <td>0.530</td>\n",
       "      <td>0.420</td>\n",
       "      <td>0.135</td>\n",
       "      <td>0.6770</td>\n",
       "      <td>0.2565</td>\n",
       "      <td>0.1415</td>\n",
       "      <td>0.210</td>\n",
       "      <td>9</td>\n",
       "    </tr>\n",
       "    <tr>\n",
       "      <th>3</th>\n",
       "      <td>M</td>\n",
       "      <td>0.440</td>\n",
       "      <td>0.365</td>\n",
       "      <td>0.125</td>\n",
       "      <td>NaN</td>\n",
       "      <td>0.2155</td>\n",
       "      <td>0.1140</td>\n",
       "      <td>0.155</td>\n",
       "      <td>10</td>\n",
       "    </tr>\n",
       "    <tr>\n",
       "      <th>4</th>\n",
       "      <td>I</td>\n",
       "      <td>0.330</td>\n",
       "      <td>0.255</td>\n",
       "      <td>0.080</td>\n",
       "      <td>0.2050</td>\n",
       "      <td>0.0895</td>\n",
       "      <td>0.0395</td>\n",
       "      <td>0.055</td>\n",
       "      <td>7</td>\n",
       "    </tr>\n",
       "  </tbody>\n",
       "</table>\n",
       "</div>"
      ],
      "text/plain": [
       "  Sex  Length  Diameter  Height  Whole weight  Shucked weight  Viscera weight  \\\n",
       "0   M   0.455     0.365   0.095        0.5140          0.2245          0.1010   \n",
       "1   M   0.350     0.265   0.090        0.2255          0.0995          0.0485   \n",
       "2   F   0.530     0.420   0.135        0.6770          0.2565          0.1415   \n",
       "3   M   0.440     0.365   0.125           NaN          0.2155          0.1140   \n",
       "4   I   0.330     0.255   0.080        0.2050          0.0895          0.0395   \n",
       "\n",
       "   Shell weight  Rings  \n",
       "0         0.150     15  \n",
       "1         0.070      7  \n",
       "2         0.210      9  \n",
       "3         0.155     10  \n",
       "4         0.055      7  "
      ]
     },
     "execution_count": 144,
     "metadata": {},
     "output_type": "execute_result"
    }
   ],
   "source": [
    "df = pd.read_csv('abalone.csv')\n",
    "df.head()"
   ]
  },
  {
   "cell_type": "code",
   "execution_count": 145,
   "id": "2700ac21",
   "metadata": {},
   "outputs": [
    {
     "name": "stdout",
     "output_type": "stream",
     "text": [
      "<class 'pandas.core.frame.DataFrame'>\n",
      "RangeIndex: 4177 entries, 0 to 4176\n",
      "Data columns (total 9 columns):\n",
      " #   Column          Non-Null Count  Dtype  \n",
      "---  ------          --------------  -----  \n",
      " 0   Sex             4177 non-null   object \n",
      " 1   Length          4177 non-null   float64\n",
      " 2   Diameter        4078 non-null   float64\n",
      " 3   Height          4177 non-null   float64\n",
      " 4   Whole weight    4078 non-null   float64\n",
      " 5   Shucked weight  4177 non-null   float64\n",
      " 6   Viscera weight  4177 non-null   float64\n",
      " 7   Shell weight    4127 non-null   float64\n",
      " 8   Rings           4177 non-null   int64  \n",
      "dtypes: float64(7), int64(1), object(1)\n",
      "memory usage: 293.8+ KB\n"
     ]
    }
   ],
   "source": [
    "df.info()"
   ]
  },
  {
   "cell_type": "code",
   "execution_count": 146,
   "id": "d42ff4dd",
   "metadata": {},
   "outputs": [
    {
     "data": {
      "text/plain": [
       "(4177, 9)"
      ]
     },
     "execution_count": 146,
     "metadata": {},
     "output_type": "execute_result"
    }
   ],
   "source": [
    "df.shape"
   ]
  },
  {
   "cell_type": "code",
   "execution_count": 147,
   "id": "62aa6e22",
   "metadata": {},
   "outputs": [
    {
     "data": {
      "text/html": [
       "<div>\n",
       "<style scoped>\n",
       "    .dataframe tbody tr th:only-of-type {\n",
       "        vertical-align: middle;\n",
       "    }\n",
       "\n",
       "    .dataframe tbody tr th {\n",
       "        vertical-align: top;\n",
       "    }\n",
       "\n",
       "    .dataframe thead th {\n",
       "        text-align: right;\n",
       "    }\n",
       "</style>\n",
       "<table border=\"1\" class=\"dataframe\">\n",
       "  <thead>\n",
       "    <tr style=\"text-align: right;\">\n",
       "      <th></th>\n",
       "      <th>Length</th>\n",
       "      <th>Diameter</th>\n",
       "      <th>Height</th>\n",
       "      <th>Whole weight</th>\n",
       "      <th>Shucked weight</th>\n",
       "      <th>Viscera weight</th>\n",
       "      <th>Shell weight</th>\n",
       "      <th>Rings</th>\n",
       "    </tr>\n",
       "  </thead>\n",
       "  <tbody>\n",
       "    <tr>\n",
       "      <th>count</th>\n",
       "      <td>4177.000000</td>\n",
       "      <td>4078.000000</td>\n",
       "      <td>4177.000000</td>\n",
       "      <td>4078.000000</td>\n",
       "      <td>4177.000000</td>\n",
       "      <td>4177.000000</td>\n",
       "      <td>4127.000000</td>\n",
       "      <td>4177.000000</td>\n",
       "    </tr>\n",
       "    <tr>\n",
       "      <th>mean</th>\n",
       "      <td>0.523992</td>\n",
       "      <td>0.407840</td>\n",
       "      <td>0.139516</td>\n",
       "      <td>0.827306</td>\n",
       "      <td>0.359367</td>\n",
       "      <td>0.180594</td>\n",
       "      <td>0.239072</td>\n",
       "      <td>9.933684</td>\n",
       "    </tr>\n",
       "    <tr>\n",
       "      <th>std</th>\n",
       "      <td>0.120093</td>\n",
       "      <td>0.099286</td>\n",
       "      <td>0.041827</td>\n",
       "      <td>0.490348</td>\n",
       "      <td>0.221963</td>\n",
       "      <td>0.109614</td>\n",
       "      <td>0.138942</td>\n",
       "      <td>3.224169</td>\n",
       "    </tr>\n",
       "    <tr>\n",
       "      <th>min</th>\n",
       "      <td>0.075000</td>\n",
       "      <td>0.055000</td>\n",
       "      <td>0.000000</td>\n",
       "      <td>0.002000</td>\n",
       "      <td>0.001000</td>\n",
       "      <td>0.000500</td>\n",
       "      <td>0.001500</td>\n",
       "      <td>1.000000</td>\n",
       "    </tr>\n",
       "    <tr>\n",
       "      <th>25%</th>\n",
       "      <td>0.450000</td>\n",
       "      <td>0.350000</td>\n",
       "      <td>0.115000</td>\n",
       "      <td>0.440500</td>\n",
       "      <td>0.186000</td>\n",
       "      <td>0.093500</td>\n",
       "      <td>0.130000</td>\n",
       "      <td>8.000000</td>\n",
       "    </tr>\n",
       "    <tr>\n",
       "      <th>50%</th>\n",
       "      <td>0.545000</td>\n",
       "      <td>0.425000</td>\n",
       "      <td>0.140000</td>\n",
       "      <td>0.798500</td>\n",
       "      <td>0.336000</td>\n",
       "      <td>0.171000</td>\n",
       "      <td>0.235000</td>\n",
       "      <td>9.000000</td>\n",
       "    </tr>\n",
       "    <tr>\n",
       "      <th>75%</th>\n",
       "      <td>0.615000</td>\n",
       "      <td>0.480000</td>\n",
       "      <td>0.165000</td>\n",
       "      <td>1.150875</td>\n",
       "      <td>0.502000</td>\n",
       "      <td>0.253000</td>\n",
       "      <td>0.328250</td>\n",
       "      <td>11.000000</td>\n",
       "    </tr>\n",
       "    <tr>\n",
       "      <th>max</th>\n",
       "      <td>0.815000</td>\n",
       "      <td>0.650000</td>\n",
       "      <td>1.130000</td>\n",
       "      <td>2.825500</td>\n",
       "      <td>1.488000</td>\n",
       "      <td>0.760000</td>\n",
       "      <td>1.005000</td>\n",
       "      <td>29.000000</td>\n",
       "    </tr>\n",
       "  </tbody>\n",
       "</table>\n",
       "</div>"
      ],
      "text/plain": [
       "            Length     Diameter       Height  Whole weight  Shucked weight  \\\n",
       "count  4177.000000  4078.000000  4177.000000   4078.000000     4177.000000   \n",
       "mean      0.523992     0.407840     0.139516      0.827306        0.359367   \n",
       "std       0.120093     0.099286     0.041827      0.490348        0.221963   \n",
       "min       0.075000     0.055000     0.000000      0.002000        0.001000   \n",
       "25%       0.450000     0.350000     0.115000      0.440500        0.186000   \n",
       "50%       0.545000     0.425000     0.140000      0.798500        0.336000   \n",
       "75%       0.615000     0.480000     0.165000      1.150875        0.502000   \n",
       "max       0.815000     0.650000     1.130000      2.825500        1.488000   \n",
       "\n",
       "       Viscera weight  Shell weight        Rings  \n",
       "count     4177.000000   4127.000000  4177.000000  \n",
       "mean         0.180594      0.239072     9.933684  \n",
       "std          0.109614      0.138942     3.224169  \n",
       "min          0.000500      0.001500     1.000000  \n",
       "25%          0.093500      0.130000     8.000000  \n",
       "50%          0.171000      0.235000     9.000000  \n",
       "75%          0.253000      0.328250    11.000000  \n",
       "max          0.760000      1.005000    29.000000  "
      ]
     },
     "execution_count": 147,
     "metadata": {},
     "output_type": "execute_result"
    }
   ],
   "source": [
    "df.describe()"
   ]
  },
  {
   "cell_type": "code",
   "execution_count": 148,
   "id": "9cb02e39",
   "metadata": {},
   "outputs": [
    {
     "data": {
      "text/html": [
       "<div>\n",
       "<style scoped>\n",
       "    .dataframe tbody tr th:only-of-type {\n",
       "        vertical-align: middle;\n",
       "    }\n",
       "\n",
       "    .dataframe tbody tr th {\n",
       "        vertical-align: top;\n",
       "    }\n",
       "\n",
       "    .dataframe thead th {\n",
       "        text-align: right;\n",
       "    }\n",
       "</style>\n",
       "<table border=\"1\" class=\"dataframe\">\n",
       "  <thead>\n",
       "    <tr style=\"text-align: right;\">\n",
       "      <th></th>\n",
       "      <th>Sex</th>\n",
       "    </tr>\n",
       "  </thead>\n",
       "  <tbody>\n",
       "    <tr>\n",
       "      <th>count</th>\n",
       "      <td>4177</td>\n",
       "    </tr>\n",
       "    <tr>\n",
       "      <th>unique</th>\n",
       "      <td>4</td>\n",
       "    </tr>\n",
       "    <tr>\n",
       "      <th>top</th>\n",
       "      <td>M</td>\n",
       "    </tr>\n",
       "    <tr>\n",
       "      <th>freq</th>\n",
       "      <td>1447</td>\n",
       "    </tr>\n",
       "  </tbody>\n",
       "</table>\n",
       "</div>"
      ],
      "text/plain": [
       "         Sex\n",
       "count   4177\n",
       "unique     4\n",
       "top        M\n",
       "freq    1447"
      ]
     },
     "execution_count": 148,
     "metadata": {},
     "output_type": "execute_result"
    }
   ],
   "source": [
    "df.describe(include='object')"
   ]
  },
  {
   "cell_type": "code",
   "execution_count": 149,
   "id": "3b0ae248",
   "metadata": {},
   "outputs": [
    {
     "data": {
      "text/plain": [
       "0"
      ]
     },
     "execution_count": 149,
     "metadata": {},
     "output_type": "execute_result"
    }
   ],
   "source": [
    "df.duplicated().sum().sum() # =0 => дубликатов в датафрейме нет"
   ]
  },
  {
   "cell_type": "code",
   "execution_count": 150,
   "id": "e8638570",
   "metadata": {},
   "outputs": [
    {
     "data": {
      "text/plain": [
       "2.3701220971989465"
      ]
     },
     "execution_count": 150,
     "metadata": {},
     "output_type": "execute_result"
    }
   ],
   "source": [
    "df.Diameter.isna().sum()/len(df.Diameter) * 100 #т.к. пропусков менее 5% - заполним недостающие значения медианным; аналогично для параметра \"Whole weight\" и \"Shell weight\""
   ]
  },
  {
   "cell_type": "code",
   "execution_count": 151,
   "id": "9c08ecc3",
   "metadata": {},
   "outputs": [],
   "source": [
    "median_Diameter = df['Diameter'].median()\n",
    "df['Diameter'].fillna(median_Diameter, inplace=True)\n",
    "median_Wh_weight = df['Whole weight'].median()\n",
    "df['Whole weight'].fillna(median_Wh_weight, inplace=True)\n",
    "median_Sh_weight = df['Shell weight'].median()\n",
    "df['Shell weight'].fillna(median_Sh_weight, inplace=True)"
   ]
  },
  {
   "cell_type": "code",
   "execution_count": 152,
   "id": "4a9f58d4",
   "metadata": {},
   "outputs": [
    {
     "data": {
      "text/plain": [
       "Sex               0\n",
       "Length            0\n",
       "Diameter          0\n",
       "Height            0\n",
       "Whole weight      0\n",
       "Shucked weight    0\n",
       "Viscera weight    0\n",
       "Shell weight      0\n",
       "Rings             0\n",
       "dtype: int64"
      ]
     },
     "execution_count": 152,
     "metadata": {},
     "output_type": "execute_result"
    }
   ],
   "source": [
    "#Для дальнейшего применения машинного обучения 0 в датасете быть не должно, проверим это:\n",
    "df.isnull().sum()"
   ]
  },
  {
   "cell_type": "code",
   "execution_count": 153,
   "id": "33a1962a",
   "metadata": {},
   "outputs": [
    {
     "data": {
      "text/plain": [
       "array([[<AxesSubplot:title={'center':'Length'}>,\n",
       "        <AxesSubplot:title={'center':'Diameter'}>,\n",
       "        <AxesSubplot:title={'center':'Height'}>],\n",
       "       [<AxesSubplot:title={'center':'Whole weight'}>,\n",
       "        <AxesSubplot:title={'center':'Shucked weight'}>,\n",
       "        <AxesSubplot:title={'center':'Viscera weight'}>],\n",
       "       [<AxesSubplot:title={'center':'Shell weight'}>,\n",
       "        <AxesSubplot:title={'center':'Rings'}>, <AxesSubplot:>]],\n",
       "      dtype=object)"
      ]
     },
     "execution_count": 153,
     "metadata": {},
     "output_type": "execute_result"
    },
    {
     "data": {
      "image/png": "[encoded data removed]",
      "text/plain": [
       "<Figure size 720x720 with 9 Axes>"
      ]
     },
     "metadata": {
      "needs_background": "light"
     },
     "output_type": "display_data"
    }
   ],
   "source": [
    "#Посмотрим распределения всех рассматриваемых парметров в датасете:\n",
    "df.hist(bins = 20, figsize = (10,10))"
   ]
  },
  {
   "cell_type": "code",
   "execution_count": 154,
   "id": "7e4ecab5",
   "metadata": {},
   "outputs": [],
   "source": [
    "#Рассмотрим связь целевой переменной с другими признаками:"
   ]
  },
  {
   "cell_type": "code",
   "execution_count": 155,
   "id": "825b13ec",
   "metadata": {},
   "outputs": [
    {
     "data": {
      "text/plain": [
       "<matplotlib.collections.PathCollection at 0x7fe2af959130>"
      ]
     },
     "execution_count": 155,
     "metadata": {},
     "output_type": "execute_result"
    },
    {
     "data": {
      "image/png": "[encoded data removed]",
      "text/plain": [
       "<Figure size 432x288 with 1 Axes>"
      ]
     },
     "metadata": {
      "needs_background": "light"
     },
     "output_type": "display_data"
    }
   ],
   "source": [
    "plt.figure(figsize=(6,4))\n",
    "plt.scatter(df.Sex, df.Rings)"
   ]
  },
  {
   "cell_type": "code",
   "execution_count": 44,
   "id": "c450ea7f",
   "metadata": {},
   "outputs": [
    {
     "data": {
      "text/plain": [
       "<matplotlib.collections.PathCollection at 0x7fe25f6218e0>"
      ]
     },
     "execution_count": 44,
     "metadata": {},
     "output_type": "execute_result"
    },
    {
     "data": {
      "image/png": "[encoded data removed]",
      "text/plain": [
       "<Figure size 432x288 with 1 Axes>"
      ]
     },
     "metadata": {
      "needs_background": "light"
     },
     "output_type": "display_data"
    }
   ],
   "source": [
    "plt.figure(figsize=(6,4))\n",
    "plt.scatter(df.Length, df.Rings)"
   ]
  },
  {
   "cell_type": "code",
   "execution_count": 45,
   "id": "9638ffa8",
   "metadata": {},
   "outputs": [
    {
     "data": {
      "text/plain": [
       "<matplotlib.collections.PathCollection at 0x7fe2491aa100>"
      ]
     },
     "execution_count": 45,
     "metadata": {},
     "output_type": "execute_result"
    },
    {
     "data": {
      "image/png": "[encoded data removed]",
      "text/plain": [
       "<Figure size 432x288 with 1 Axes>"
      ]
     },
     "metadata": {
      "needs_background": "light"
     },
     "output_type": "display_data"
    }
   ],
   "source": [
    "plt.figure(figsize=(6,4))\n",
    "plt.scatter(df.Diameter, df.Rings)"
   ]
  },
  {
   "cell_type": "code",
   "execution_count": 46,
   "id": "4b26d6c6",
   "metadata": {},
   "outputs": [
    {
     "data": {
      "text/plain": [
       "<matplotlib.collections.PathCollection at 0x7fe2639520a0>"
      ]
     },
     "execution_count": 46,
     "metadata": {},
     "output_type": "execute_result"
    },
    {
     "data": {
      "image/png": "[encoded data removed]",
      "text/plain": [
       "<Figure size 432x288 with 1 Axes>"
      ]
     },
     "metadata": {
      "needs_background": "light"
     },
     "output_type": "display_data"
    }
   ],
   "source": [
    "plt.figure(figsize=(6,4))\n",
    "plt.scatter(df.Height, df.Rings)"
   ]
  },
  {
   "cell_type": "code",
   "execution_count": 47,
   "id": "8dd838fa",
   "metadata": {},
   "outputs": [
    {
     "data": {
      "text/plain": [
       "<matplotlib.collections.PathCollection at 0x7fe26396ceb0>"
      ]
     },
     "execution_count": 47,
     "metadata": {},
     "output_type": "execute_result"
    },
    {
     "data": {
      "image/png": "[encoded data removed]",
      "text/plain": [
       "<Figure size 432x288 with 1 Axes>"
      ]
     },
     "metadata": {
      "needs_background": "light"
     },
     "output_type": "display_data"
    }
   ],
   "source": [
    "plt.figure(figsize=(6,4))\n",
    "plt.scatter(df['Whole weight'], df.Rings)"
   ]
  },
  {
   "cell_type": "code",
   "execution_count": 48,
   "id": "a1e7cfe7",
   "metadata": {},
   "outputs": [
    {
     "data": {
      "text/plain": [
       "<matplotlib.collections.PathCollection at 0x7fe25f400160>"
      ]
     },
     "execution_count": 48,
     "metadata": {},
     "output_type": "execute_result"
    },
    {
     "data": {
      "image/png": "[encoded data removed]",
      "text/plain": [
       "<Figure size 432x288 with 1 Axes>"
      ]
     },
     "metadata": {
      "needs_background": "light"
     },
     "output_type": "display_data"
    }
   ],
   "source": [
    "plt.figure(figsize=(6,4))\n",
    "plt.scatter(df['Shucked weight'], df.Rings)"
   ]
  },
  {
   "cell_type": "code",
   "execution_count": 49,
   "id": "54bceacc",
   "metadata": {},
   "outputs": [
    {
     "data": {
      "text/plain": [
       "<matplotlib.collections.PathCollection at 0x7fe2ac821af0>"
      ]
     },
     "execution_count": 49,
     "metadata": {},
     "output_type": "execute_result"
    },
    {
     "data": {
      "image/png": "[encoded data removed]",
      "text/plain": [
       "<Figure size 432x288 with 1 Axes>"
      ]
     },
     "metadata": {
      "needs_background": "light"
     },
     "output_type": "display_data"
    }
   ],
   "source": [
    "plt.figure(figsize=(6,4))\n",
    "plt.scatter(df['Viscera weight'], df.Rings) "
   ]
  },
  {
   "cell_type": "code",
   "execution_count": 50,
   "id": "4c9b2d1c",
   "metadata": {},
   "outputs": [
    {
     "data": {
      "text/plain": [
       "<matplotlib.collections.PathCollection at 0x7fe2636f19d0>"
      ]
     },
     "execution_count": 50,
     "metadata": {},
     "output_type": "execute_result"
    },
    {
     "data": {
      "image/png": "[encoded data removed]",
      "text/plain": [
       "<Figure size 432x288 with 1 Axes>"
      ]
     },
     "metadata": {
      "needs_background": "light"
     },
     "output_type": "display_data"
    }
   ],
   "source": [
    "plt.figure(figsize=(6,4))\n",
    "plt.scatter(df['Shell weight'], df.Rings)"
   ]
  },
  {
   "cell_type": "code",
   "execution_count": 56,
   "id": "3c2ed53b",
   "metadata": {},
   "outputs": [
    {
     "data": {
      "text/plain": [
       "<AxesSubplot:>"
      ]
     },
     "execution_count": 56,
     "metadata": {},
     "output_type": "execute_result"
    },
    {
     "data": {
      "image/png": "[encoded data removed]",
      "text/plain": [
       "<Figure size 432x288 with 2 Axes>"
      ]
     },
     "metadata": {
      "needs_background": "light"
     },
     "output_type": "display_data"
    }
   ],
   "source": [
    "#Построим матрицу корреляций. Начнем с корреляции Пирсона:\n",
    "corr = df.corr()\n",
    "sns.heatmap(corr, cmap = 'Blues', annot = True)"
   ]
  },
  {
   "cell_type": "code",
   "execution_count": 57,
   "id": "81e244e2",
   "metadata": {},
   "outputs": [
    {
     "data": {
      "text/plain": [
       "<AxesSubplot:>"
      ]
     },
     "execution_count": 57,
     "metadata": {},
     "output_type": "execute_result"
    },
    {
     "data": {
      "image/png": "[encoded data removed]",
      "text/plain": [
       "<Figure size 432x288 with 2 Axes>"
      ]
     },
     "metadata": {
      "needs_background": "light"
     },
     "output_type": "display_data"
    }
   ],
   "source": [
    "#Так как переменная Sex является номинальной, но не является порядковой, невозможно применить корреляцию Спирмена.\n",
    "#Также не получится использовать статистику  𝜒2, так как в датасете только одна номинальная переменная."
   ]
  },
  {
   "cell_type": "code",
   "execution_count": 156,
   "id": "bfcbc3f6",
   "metadata": {},
   "outputs": [
    {
     "data": {
      "text/plain": [
       "(array([  9.,  11.,  26.,  79., 164., 538., 217., 112.,  87.,  50.,  73.,\n",
       "         23.,  17.,  15.,  11.,   9.,   3.,   1.,   0.,   2.]),\n",
       " array([ 3. ,  4.2,  5.4,  6.6,  7.8,  9. , 10.2, 11.4, 12.6, 13.8, 15. ,\n",
       "        16.2, 17.4, 18.6, 19.8, 21. , 22.2, 23.4, 24.6, 25.8, 27. ]),\n",
       " <BarContainer object of 20 artists>)"
      ]
     },
     "execution_count": 156,
     "metadata": {},
     "output_type": "execute_result"
    },
    {
     "data": {
      "image/png": "[encoded data removed]",
      "text/plain": [
       "<Figure size 432x288 with 1 Axes>"
      ]
     },
     "metadata": {
      "needs_background": "light"
     },
     "output_type": "display_data"
    }
   ],
   "source": [
    "# Так как \"ANOVA основан на предположении, что переменная, которая анализируется, является нормально распределенной в каждой группе, и что дисперсия внутри групп равномерна\", проверим распределение целевой переменной в зависимости от значения переменной Sex:\n",
    "#df.Rings[('Sex' == 'M')].hist()\n",
    "df_M = df[df.Sex == 'M']\n",
    "df_I = df[df.Sex == 'I']\n",
    "df_F = df[df.Sex == 'F']\n",
    "plt.hist(df_M.Rings, bins = 20)"
   ]
  },
  {
   "cell_type": "code",
   "execution_count": 157,
   "id": "e3558e16",
   "metadata": {
    "scrolled": true
   },
   "outputs": [
    {
     "data": {
      "text/plain": [
       "M    1447\n",
       "I    1276\n",
       "F    1259\n",
       "f     195\n",
       "Name: Sex, dtype: int64"
      ]
     },
     "execution_count": 157,
     "metadata": {},
     "output_type": "execute_result"
    }
   ],
   "source": [
    "df.Sex.value_counts()"
   ]
  },
  {
   "cell_type": "code",
   "execution_count": 158,
   "id": "6e3bdf69",
   "metadata": {},
   "outputs": [],
   "source": [
    "#Заметим, что в описании к датасету указано, что пола всего 3 => делаем вывод, что 'f' вместо 'F' -- опечатка. Исправим это:\n",
    "df['Sex'] = df['Sex'].replace('f', 'F')"
   ]
  },
  {
   "cell_type": "code",
   "execution_count": 172,
   "id": "170dc947",
   "metadata": {},
   "outputs": [
    {
     "data": {
      "text/plain": [
       "F    1454\n",
       "M    1447\n",
       "I    1276\n",
       "Name: Sex, dtype: int64"
      ]
     },
     "execution_count": 172,
     "metadata": {},
     "output_type": "execute_result"
    }
   ],
   "source": [
    "#Проверим значения в столбце Sex теперь:\n",
    "df.Sex.value_counts()"
   ]
  },
  {
   "cell_type": "code",
   "execution_count": 78,
   "id": "10f58855",
   "metadata": {},
   "outputs": [
    {
     "data": {
      "text/plain": [
       "(array([  1.,   1.,  11.,  49.,  95., 207., 258., 259., 164.,  85.,  59.,\n",
       "         20.,  24.,  13.,   7.,   6.,   7.,   5.,   2.,   3.]),\n",
       " array([ 1.,  2.,  3.,  4.,  5.,  6.,  7.,  8.,  9., 10., 11., 12., 13.,\n",
       "        14., 15., 16., 17., 18., 19., 20., 21.]),\n",
       " <BarContainer object of 20 artists>)"
      ]
     },
     "execution_count": 78,
     "metadata": {},
     "output_type": "execute_result"
    },
    {
     "data": {
      "image/png": "[encoded data removed]",
      "text/plain": [
       "<Figure size 432x288 with 1 Axes>"
      ]
     },
     "metadata": {
      "needs_background": "light"
     },
     "output_type": "display_data"
    }
   ],
   "source": [
    "plt.hist(df_I.Rings, bins = 20)"
   ]
  },
  {
   "cell_type": "code",
   "execution_count": 71,
   "id": "c4c59f44",
   "metadata": {},
   "outputs": [
    {
     "data": {
      "text/plain": [
       "(array([ 20.,  42., 118., 231., 236., 316.,  86.,  49.,  40.,  30.,  44.,\n",
       "         15.,  12.,   7.,   3.,   7.,   1.,   0.,   1.,   1.]),\n",
       " array([ 5. ,  6.2,  7.4,  8.6,  9.8, 11. , 12.2, 13.4, 14.6, 15.8, 17. ,\n",
       "        18.2, 19.4, 20.6, 21.8, 23. , 24.2, 25.4, 26.6, 27.8, 29. ]),\n",
       " <BarContainer object of 20 artists>)"
      ]
     },
     "execution_count": 71,
     "metadata": {},
     "output_type": "execute_result"
    },
    {
     "data": {
      "image/png": "[encoded data removed]",
      "text/plain": [
       "<Figure size 432x288 with 1 Axes>"
      ]
     },
     "metadata": {
      "needs_background": "light"
     },
     "output_type": "display_data"
    }
   ],
   "source": [
    "plt.hist(df_F.Rings, bins = 20)"
   ]
  },
  {
   "cell_type": "code",
   "execution_count": 72,
   "id": "bc39226e",
   "metadata": {},
   "outputs": [
    {
     "data": {
      "text/plain": [
       "(array([ 1.,  2.,  5., 10., 12., 27.,  0., 34., 35., 18., 12.,  6., 14.,\n",
       "         0.,  9.,  5.,  2.,  2.,  0.,  1.]),\n",
       " array([ 3.  ,  3.85,  4.7 ,  5.55,  6.4 ,  7.25,  8.1 ,  8.95,  9.8 ,\n",
       "        10.65, 11.5 , 12.35, 13.2 , 14.05, 14.9 , 15.75, 16.6 , 17.45,\n",
       "        18.3 , 19.15, 20.  ]),\n",
       " <BarContainer object of 20 artists>)"
      ]
     },
     "execution_count": 72,
     "metadata": {},
     "output_type": "execute_result"
    },
    {
     "data": {
      "image/png": "[encoded data removed]",
      "text/plain": [
       "<Figure size 432x288 with 1 Axes>"
      ]
     },
     "metadata": {
      "needs_background": "light"
     },
     "output_type": "display_data"
    }
   ],
   "source": [
    "plt.hist(df_f.Rings, bins = 20)"
   ]
  },
  {
   "cell_type": "code",
   "execution_count": null,
   "id": "5692ae43",
   "metadata": {},
   "outputs": [],
   "source": [
    "#Замечаем, что распределения похожи на нормальные => предпосылка #1 для использования ANOVA выполнена."
   ]
  },
  {
   "cell_type": "code",
   "execution_count": 186,
   "id": "ef46b2c4",
   "metadata": {},
   "outputs": [
    {
     "name": "stdout",
     "output_type": "stream",
     "text": [
      "Дисперсия в группе мужского пола: 9.204405356243328\n",
      "Дисперсия в группе infant: 6.258963058577663\n",
      "Дисперсия в группе женского пола: 9.804413627288925\n"
     ]
    }
   ],
   "source": [
    "#Проверим наличие предпосылки #2: \"дисперсия внутри групп равномерна\".\n",
    "#Рассмотрим дисперсии внутри категорий пола:\n",
    "from statistics import variance\n",
    "\n",
    "print(f'Дисперсия в группе мужского пола: {variance(df_M.Rings)}')\n",
    "print(f'Дисперсия в группе infant: {variance(df_I.Rings)}')\n",
    "print(f'Дисперсия в группе женского пола: {variance(df_F.Rings)}')"
   ]
  },
  {
   "cell_type": "code",
   "execution_count": null,
   "id": "fcb6f694",
   "metadata": {},
   "outputs": [],
   "source": [
    "#Замечаем, что дисперсии в группах приблизительно равны."
   ]
  },
  {
   "cell_type": "code",
   "execution_count": 60,
   "id": "b4d3b092",
   "metadata": {},
   "outputs": [
    {
     "name": "stdout",
     "output_type": "stream",
     "text": [
      "P-Value for Anova is:  1.8545900446585218e-185\n",
      "Features are correlated\n"
     ]
    }
   ],
   "source": [
    "#Так как обе предпосылки выполнены, перейдем к ANOVA:\n",
    "from scipy.stats import f_oneway\n",
    "CategoryGroupLists = df.groupby('Sex')['Rings'].apply(list)\n",
    "\n",
    "AnovaResults = f_oneway(*CategoryGroupLists)\n",
    "\n",
    "print('P-Value for Anova is: ', AnovaResults[1])\n",
    "\n",
    "if AnovaResults[1] >= 0.05:\n",
    "    print('Features are NOT correlated')\n",
    "else:\n",
    "    print('Features are correlated')"
   ]
  },
  {
   "cell_type": "code",
   "execution_count": 83,
   "id": "74f6303e",
   "metadata": {},
   "outputs": [
    {
     "data": {
      "text/plain": [
       "(array([  1.,   0.,   0.,   1.,   0.,   0.,   0.,  15.,   0.,   0.,  57.,\n",
       "          0.,   0.,   0., 115.,   0.,   0., 259.,   0.,   0.,   0., 391.,\n",
       "          0.,   0.,   0., 568.,   0.,   0., 689.,   0.,   0.,   0., 634.,\n",
       "          0.,   0., 487.,   0.,   0.,   0., 267.,   0.,   0., 203.,   0.,\n",
       "          0.,   0., 126.,   0.,   0., 103.,   0.,   0.,   0.,  67.,   0.,\n",
       "          0.,   0.,  58.,   0.,   0.,  42.,   0.,   0.,   0.,  32.,   0.,\n",
       "          0.,  26.,   0.,   0.,   0.,  14.,   0.,   0.,   6.,   0.,   0.,\n",
       "          0.,   9.,   0.,   0.,   0.,   2.,   0.,   0.,   1.,   0.,   0.,\n",
       "          0.,   1.,   0.,   0.,   2.,   0.,   0.,   0.,   0.,   0.,   0.,\n",
       "          1.]),\n",
       " array([ 1.  ,  1.28,  1.56,  1.84,  2.12,  2.4 ,  2.68,  2.96,  3.24,\n",
       "         3.52,  3.8 ,  4.08,  4.36,  4.64,  4.92,  5.2 ,  5.48,  5.76,\n",
       "         6.04,  6.32,  6.6 ,  6.88,  7.16,  7.44,  7.72,  8.  ,  8.28,\n",
       "         8.56,  8.84,  9.12,  9.4 ,  9.68,  9.96, 10.24, 10.52, 10.8 ,\n",
       "        11.08, 11.36, 11.64, 11.92, 12.2 , 12.48, 12.76, 13.04, 13.32,\n",
       "        13.6 , 13.88, 14.16, 14.44, 14.72, 15.  , 15.28, 15.56, 15.84,\n",
       "        16.12, 16.4 , 16.68, 16.96, 17.24, 17.52, 17.8 , 18.08, 18.36,\n",
       "        18.64, 18.92, 19.2 , 19.48, 19.76, 20.04, 20.32, 20.6 , 20.88,\n",
       "        21.16, 21.44, 21.72, 22.  , 22.28, 22.56, 22.84, 23.12, 23.4 ,\n",
       "        23.68, 23.96, 24.24, 24.52, 24.8 , 25.08, 25.36, 25.64, 25.92,\n",
       "        26.2 , 26.48, 26.76, 27.04, 27.32, 27.6 , 27.88, 28.16, 28.44,\n",
       "        28.72, 29.  ]),\n",
       " <BarContainer object of 100 artists>)"
      ]
     },
     "execution_count": 83,
     "metadata": {},
     "output_type": "execute_result"
    },
    {
     "data": {
      "image/png": "[encoded data removed]",
      "text/plain": [
       "<Figure size 432x288 with 1 Axes>"
      ]
     },
     "metadata": {
      "needs_background": "light"
     },
     "output_type": "display_data"
    }
   ],
   "source": [
    "#Ещё раз посмотрим на распределение целевой переменной:\n",
    "plt.hist(df.Rings, bins = 100)"
   ]
  },
  {
   "cell_type": "code",
   "execution_count": null,
   "id": "303a992c",
   "metadata": {},
   "outputs": [],
   "source": [
    "#Заметим, что распределение целевой переменной напоминает нормальное с небольшой правосторонней асимметрией. Из-за этого могут возникнуть проблемы с обучением модели для предсказания малых и (особенно) высоких значений целевой переменной."
   ]
  },
  {
   "cell_type": "code",
   "execution_count": 84,
   "id": "dece4b94",
   "metadata": {},
   "outputs": [],
   "source": [
    "#Увеличим количество строк в датасете до 10^6:\n",
    "df_big = df.copy()\n",
    "\n",
    "for i in range(240):\n",
    "  df_big = pd.concat([df_big, df])\n",
    "\n",
    "df_big.to_csv(\"abalone_big.csv\", index=False)"
   ]
  },
  {
   "cell_type": "code",
   "execution_count": 85,
   "id": "1cfb2ed6",
   "metadata": {},
   "outputs": [
    {
     "data": {
      "text/plain": [
       "((1006657, 9), (4177, 9))"
      ]
     },
     "execution_count": 85,
     "metadata": {},
     "output_type": "execute_result"
    }
   ],
   "source": [
    "df_big.shape, df.shape"
   ]
  },
  {
   "cell_type": "code",
   "execution_count": 86,
   "id": "2ecb7057",
   "metadata": {},
   "outputs": [
    {
     "name": "stdout",
     "output_type": "stream",
     "text": [
      "Requirement already satisfied: polars in ./opt/anaconda3/lib/python3.9/site-packages (0.18.7)\n",
      "0.18.7\n"
     ]
    }
   ],
   "source": [
    "!pip install polars\n",
    "\n",
    "import polars as pl\n",
    "\n",
    "print(pl.__version__)"
   ]
  },
  {
   "cell_type": "code",
   "execution_count": null,
   "id": "103090a9",
   "metadata": {},
   "outputs": [],
   "source": [
    "#Загрузим данные:"
   ]
  },
  {
   "cell_type": "code",
   "execution_count": 107,
   "id": "085f0b89",
   "metadata": {},
   "outputs": [
    {
     "name": "stdout",
     "output_type": "stream",
     "text": [
      "CPU times: user 441 ms, sys: 114 ms, total: 555 ms\n",
      "Wall time: 92.3 ms\n"
     ]
    }
   ],
   "source": [
    "%%time\n",
    "#Pandas\n",
    "\n",
    "df_pl = pl.read_csv(\"abalone_big.csv\")"
   ]
  },
  {
   "cell_type": "code",
   "execution_count": 141,
   "id": "463665b6",
   "metadata": {},
   "outputs": [
    {
     "name": "stdout",
     "output_type": "stream",
     "text": [
      "CPU times: user 374 ms, sys: 94.9 ms, total: 469 ms\n",
      "Wall time: 562 ms\n"
     ]
    }
   ],
   "source": [
    "%%time\n",
    "#Polars\n",
    "\n",
    "df_pd = pd.read_csv(\"abalone_big.csv\")"
   ]
  },
  {
   "cell_type": "code",
   "execution_count": 105,
   "id": "dc0190d2",
   "metadata": {},
   "outputs": [],
   "source": [
    "#Замечаем, что Pandas с загрузкой данных справляется быстрее, чем Polars."
   ]
  },
  {
   "cell_type": "code",
   "execution_count": null,
   "id": "f2bf0d67",
   "metadata": {},
   "outputs": [],
   "source": [
    "#Применим фильтрацию к датасетам таким образом, чтобы в них остались только представители мужского пола, с длиной больше медианной и с весом раковины больше медианного."
   ]
  },
  {
   "cell_type": "code",
   "execution_count": 142,
   "id": "58707d9b",
   "metadata": {},
   "outputs": [
    {
     "name": "stdout",
     "output_type": "stream",
     "text": [
      "CPU times: user 105 ms, sys: 27.5 ms, total: 132 ms\n",
      "Wall time: 138 ms\n"
     ]
    },
    {
     "data": {
      "text/html": [
       "<div>\n",
       "<style scoped>\n",
       "    .dataframe tbody tr th:only-of-type {\n",
       "        vertical-align: middle;\n",
       "    }\n",
       "\n",
       "    .dataframe tbody tr th {\n",
       "        vertical-align: top;\n",
       "    }\n",
       "\n",
       "    .dataframe thead th {\n",
       "        text-align: right;\n",
       "    }\n",
       "</style>\n",
       "<table border=\"1\" class=\"dataframe\">\n",
       "  <thead>\n",
       "    <tr style=\"text-align: right;\">\n",
       "      <th></th>\n",
       "      <th>Sex</th>\n",
       "      <th>Length</th>\n",
       "      <th>Diameter</th>\n",
       "      <th>Height</th>\n",
       "      <th>Whole weight</th>\n",
       "      <th>Shucked weight</th>\n",
       "      <th>Viscera weight</th>\n",
       "      <th>Shell weight</th>\n",
       "      <th>Rings</th>\n",
       "    </tr>\n",
       "  </thead>\n",
       "  <tbody>\n",
       "    <tr>\n",
       "      <th>27</th>\n",
       "      <td>M</td>\n",
       "      <td>0.590</td>\n",
       "      <td>0.445</td>\n",
       "      <td>0.140</td>\n",
       "      <td>0.9310</td>\n",
       "      <td>0.3560</td>\n",
       "      <td>0.2340</td>\n",
       "      <td>0.2800</td>\n",
       "      <td>12</td>\n",
       "    </tr>\n",
       "    <tr>\n",
       "      <th>28</th>\n",
       "      <td>M</td>\n",
       "      <td>0.605</td>\n",
       "      <td>0.475</td>\n",
       "      <td>0.180</td>\n",
       "      <td>0.9365</td>\n",
       "      <td>0.3940</td>\n",
       "      <td>0.2190</td>\n",
       "      <td>0.2950</td>\n",
       "      <td>15</td>\n",
       "    </tr>\n",
       "    <tr>\n",
       "      <th>30</th>\n",
       "      <td>M</td>\n",
       "      <td>0.580</td>\n",
       "      <td>0.470</td>\n",
       "      <td>0.165</td>\n",
       "      <td>0.9975</td>\n",
       "      <td>0.3935</td>\n",
       "      <td>0.2420</td>\n",
       "      <td>0.3300</td>\n",
       "      <td>10</td>\n",
       "    </tr>\n",
       "    <tr>\n",
       "      <th>70</th>\n",
       "      <td>M</td>\n",
       "      <td>0.555</td>\n",
       "      <td>0.425</td>\n",
       "      <td>0.130</td>\n",
       "      <td>0.7665</td>\n",
       "      <td>0.2640</td>\n",
       "      <td>0.1680</td>\n",
       "      <td>0.2750</td>\n",
       "      <td>13</td>\n",
       "    </tr>\n",
       "    <tr>\n",
       "      <th>73</th>\n",
       "      <td>M</td>\n",
       "      <td>0.570</td>\n",
       "      <td>0.480</td>\n",
       "      <td>0.175</td>\n",
       "      <td>1.1850</td>\n",
       "      <td>0.4740</td>\n",
       "      <td>0.2610</td>\n",
       "      <td>0.3800</td>\n",
       "      <td>11</td>\n",
       "    </tr>\n",
       "    <tr>\n",
       "      <th>...</th>\n",
       "      <td>...</td>\n",
       "      <td>...</td>\n",
       "      <td>...</td>\n",
       "      <td>...</td>\n",
       "      <td>...</td>\n",
       "      <td>...</td>\n",
       "      <td>...</td>\n",
       "      <td>...</td>\n",
       "      <td>...</td>\n",
       "    </tr>\n",
       "    <tr>\n",
       "      <th>1006628</th>\n",
       "      <td>M</td>\n",
       "      <td>0.770</td>\n",
       "      <td>0.605</td>\n",
       "      <td>0.175</td>\n",
       "      <td>2.0505</td>\n",
       "      <td>0.8005</td>\n",
       "      <td>0.5260</td>\n",
       "      <td>0.3550</td>\n",
       "      <td>11</td>\n",
       "    </tr>\n",
       "    <tr>\n",
       "      <th>1006650</th>\n",
       "      <td>M</td>\n",
       "      <td>0.550</td>\n",
       "      <td>0.430</td>\n",
       "      <td>0.130</td>\n",
       "      <td>0.8395</td>\n",
       "      <td>0.3155</td>\n",
       "      <td>0.1955</td>\n",
       "      <td>0.2405</td>\n",
       "      <td>10</td>\n",
       "    </tr>\n",
       "    <tr>\n",
       "      <th>1006653</th>\n",
       "      <td>M</td>\n",
       "      <td>0.590</td>\n",
       "      <td>0.440</td>\n",
       "      <td>0.135</td>\n",
       "      <td>0.9660</td>\n",
       "      <td>0.4390</td>\n",
       "      <td>0.2145</td>\n",
       "      <td>0.2605</td>\n",
       "      <td>10</td>\n",
       "    </tr>\n",
       "    <tr>\n",
       "      <th>1006654</th>\n",
       "      <td>M</td>\n",
       "      <td>0.600</td>\n",
       "      <td>0.475</td>\n",
       "      <td>0.205</td>\n",
       "      <td>1.1760</td>\n",
       "      <td>0.5255</td>\n",
       "      <td>0.2875</td>\n",
       "      <td>0.3080</td>\n",
       "      <td>9</td>\n",
       "    </tr>\n",
       "    <tr>\n",
       "      <th>1006656</th>\n",
       "      <td>M</td>\n",
       "      <td>0.710</td>\n",
       "      <td>0.555</td>\n",
       "      <td>0.195</td>\n",
       "      <td>1.9485</td>\n",
       "      <td>0.9455</td>\n",
       "      <td>0.3765</td>\n",
       "      <td>0.4950</td>\n",
       "      <td>12</td>\n",
       "    </tr>\n",
       "  </tbody>\n",
       "</table>\n",
       "<p>200753 rows × 9 columns</p>\n",
       "</div>"
      ],
      "text/plain": [
       "        Sex  Length  Diameter  Height  Whole weight  Shucked weight  \\\n",
       "27        M   0.590     0.445   0.140        0.9310          0.3560   \n",
       "28        M   0.605     0.475   0.180        0.9365          0.3940   \n",
       "30        M   0.580     0.470   0.165        0.9975          0.3935   \n",
       "70        M   0.555     0.425   0.130        0.7665          0.2640   \n",
       "73        M   0.570     0.480   0.175        1.1850          0.4740   \n",
       "...      ..     ...       ...     ...           ...             ...   \n",
       "1006628   M   0.770     0.605   0.175        2.0505          0.8005   \n",
       "1006650   M   0.550     0.430   0.130        0.8395          0.3155   \n",
       "1006653   M   0.590     0.440   0.135        0.9660          0.4390   \n",
       "1006654   M   0.600     0.475   0.205        1.1760          0.5255   \n",
       "1006656   M   0.710     0.555   0.195        1.9485          0.9455   \n",
       "\n",
       "         Viscera weight  Shell weight  Rings  \n",
       "27               0.2340        0.2800     12  \n",
       "28               0.2190        0.2950     15  \n",
       "30               0.2420        0.3300     10  \n",
       "70               0.1680        0.2750     13  \n",
       "73               0.2610        0.3800     11  \n",
       "...                 ...           ...    ...  \n",
       "1006628          0.5260        0.3550     11  \n",
       "1006650          0.1955        0.2405     10  \n",
       "1006653          0.2145        0.2605     10  \n",
       "1006654          0.2875        0.3080      9  \n",
       "1006656          0.3765        0.4950     12  \n",
       "\n",
       "[200753 rows x 9 columns]"
      ]
     },
     "execution_count": 142,
     "metadata": {},
     "output_type": "execute_result"
    }
   ],
   "source": [
    "%%time\n",
    "# Pandas\n",
    "\n",
    "df2 = df_pd[(df_pd.Sex == 'M') & (df_pd['Shell weight'] > df_pd['Shell weight'].median()) & (df_pd['Length'] > df_pd['Length'].median())]\n",
    "df2"
   ]
  },
  {
   "cell_type": "code",
   "execution_count": 113,
   "id": "5f88bf0a",
   "metadata": {
    "scrolled": true
   },
   "outputs": [
    {
     "name": "stdout",
     "output_type": "stream",
     "text": [
      "CPU times: user 170 ms, sys: 31.1 ms, total: 201 ms\n",
      "Wall time: 59.6 ms\n"
     ]
    },
    {
     "data": {
      "text/html": [
       "<div><style>\n",
       ".dataframe > thead > tr > th,\n",
       ".dataframe > tbody > tr > td {\n",
       "  text-align: right;\n",
       "}\n",
       "</style>\n",
       "<small>shape: (200_753, 9)</small><table border=\"1\" class=\"dataframe\"><thead><tr><th>Sex</th><th>Length</th><th>Diameter</th><th>Height</th><th>Whole weight</th><th>Shucked weight</th><th>Viscera weight</th><th>Shell weight</th><th>Rings</th></tr><tr><td>str</td><td>f64</td><td>f64</td><td>f64</td><td>f64</td><td>f64</td><td>f64</td><td>f64</td><td>i64</td></tr></thead><tbody><tr><td>&quot;M&quot;</td><td>0.59</td><td>0.445</td><td>0.14</td><td>0.931</td><td>0.356</td><td>0.234</td><td>0.28</td><td>12</td></tr><tr><td>&quot;M&quot;</td><td>0.605</td><td>0.475</td><td>0.18</td><td>0.9365</td><td>0.394</td><td>0.219</td><td>0.295</td><td>15</td></tr><tr><td>&quot;M&quot;</td><td>0.58</td><td>0.47</td><td>0.165</td><td>0.9975</td><td>0.3935</td><td>0.242</td><td>0.33</td><td>10</td></tr><tr><td>&quot;M&quot;</td><td>0.555</td><td>0.425</td><td>0.13</td><td>0.7665</td><td>0.264</td><td>0.168</td><td>0.275</td><td>13</td></tr><tr><td>&quot;M&quot;</td><td>0.57</td><td>0.48</td><td>0.175</td><td>1.185</td><td>0.474</td><td>0.261</td><td>0.38</td><td>11</td></tr><tr><td>&quot;M&quot;</td><td>0.595</td><td>0.475</td><td>0.14</td><td>0.944</td><td>0.3625</td><td>0.189</td><td>0.315</td><td>9</td></tr><tr><td>&quot;M&quot;</td><td>0.62</td><td>0.51</td><td>0.175</td><td>1.615</td><td>0.5105</td><td>0.192</td><td>0.675</td><td>12</td></tr><tr><td>&quot;M&quot;</td><td>0.595</td><td>0.475</td><td>0.16</td><td>1.3175</td><td>0.408</td><td>0.234</td><td>0.58</td><td>21</td></tr><tr><td>&quot;M&quot;</td><td>0.58</td><td>0.45</td><td>0.14</td><td>1.013</td><td>0.38</td><td>0.216</td><td>0.36</td><td>14</td></tr><tr><td>&quot;M&quot;</td><td>0.625</td><td>0.465</td><td>0.14</td><td>1.195</td><td>0.4825</td><td>0.205</td><td>0.4</td><td>13</td></tr><tr><td>&quot;M&quot;</td><td>0.56</td><td>0.44</td><td>0.16</td><td>0.8645</td><td>0.3305</td><td>0.2075</td><td>0.26</td><td>10</td></tr><tr><td>&quot;M&quot;</td><td>0.565</td><td>0.425</td><td>0.135</td><td>0.8115</td><td>0.341</td><td>0.1675</td><td>0.255</td><td>15</td></tr><tr><td>&hellip;</td><td>&hellip;</td><td>&hellip;</td><td>&hellip;</td><td>&hellip;</td><td>&hellip;</td><td>&hellip;</td><td>&hellip;</td><td>&hellip;</td></tr><tr><td>&quot;M&quot;</td><td>0.63</td><td>0.505</td><td>0.155</td><td>1.105</td><td>0.492</td><td>0.226</td><td>0.325</td><td>11</td></tr><tr><td>&quot;M&quot;</td><td>0.63</td><td>0.49</td><td>0.155</td><td>null</td><td>0.535</td><td>0.29</td><td>0.335</td><td>11</td></tr><tr><td>&quot;M&quot;</td><td>0.655</td><td>0.525</td><td>0.18</td><td>1.402</td><td>0.624</td><td>0.2935</td><td>0.365</td><td>13</td></tr><tr><td>&quot;M&quot;</td><td>0.67</td><td>0.535</td><td>0.19</td><td>1.669</td><td>0.7465</td><td>0.2935</td><td>0.508</td><td>11</td></tr><tr><td>&quot;M&quot;</td><td>0.67</td><td>0.525</td><td>0.2</td><td>1.7405</td><td>0.6205</td><td>0.297</td><td>0.657</td><td>11</td></tr><tr><td>&quot;M&quot;</td><td>0.695</td><td>0.53</td><td>0.21</td><td>1.51</td><td>0.664</td><td>0.4095</td><td>0.385</td><td>10</td></tr><tr><td>&quot;M&quot;</td><td>0.695</td><td>0.55</td><td>0.195</td><td>1.6645</td><td>0.727</td><td>0.36</td><td>0.445</td><td>11</td></tr><tr><td>&quot;M&quot;</td><td>0.77</td><td>0.605</td><td>0.175</td><td>2.0505</td><td>0.8005</td><td>0.526</td><td>0.355</td><td>11</td></tr><tr><td>&quot;M&quot;</td><td>0.55</td><td>0.43</td><td>0.13</td><td>0.8395</td><td>0.3155</td><td>0.1955</td><td>0.2405</td><td>10</td></tr><tr><td>&quot;M&quot;</td><td>0.59</td><td>0.44</td><td>0.135</td><td>0.966</td><td>0.439</td><td>0.2145</td><td>0.2605</td><td>10</td></tr><tr><td>&quot;M&quot;</td><td>0.6</td><td>0.475</td><td>0.205</td><td>1.176</td><td>0.5255</td><td>0.2875</td><td>0.308</td><td>9</td></tr><tr><td>&quot;M&quot;</td><td>0.71</td><td>0.555</td><td>0.195</td><td>1.9485</td><td>0.9455</td><td>0.3765</td><td>0.495</td><td>12</td></tr></tbody></table></div>"
      ],
      "text/plain": [
       "shape: (200_753, 9)\n",
       "┌─────┬────────┬──────────┬────────┬───┬────────────────┬────────────────┬──────────────┬───────┐\n",
       "│ Sex ┆ Length ┆ Diameter ┆ Height ┆ … ┆ Shucked weight ┆ Viscera weight ┆ Shell weight ┆ Rings │\n",
       "│ --- ┆ ---    ┆ ---      ┆ ---    ┆   ┆ ---            ┆ ---            ┆ ---          ┆ ---   │\n",
       "│ str ┆ f64    ┆ f64      ┆ f64    ┆   ┆ f64            ┆ f64            ┆ f64          ┆ i64   │\n",
       "╞═════╪════════╪══════════╪════════╪═══╪════════════════╪════════════════╪══════════════╪═══════╡\n",
       "│ M   ┆ 0.59   ┆ 0.445    ┆ 0.14   ┆ … ┆ 0.356          ┆ 0.234          ┆ 0.28         ┆ 12    │\n",
       "│ M   ┆ 0.605  ┆ 0.475    ┆ 0.18   ┆ … ┆ 0.394          ┆ 0.219          ┆ 0.295        ┆ 15    │\n",
       "│ M   ┆ 0.58   ┆ 0.47     ┆ 0.165  ┆ … ┆ 0.3935         ┆ 0.242          ┆ 0.33         ┆ 10    │\n",
       "│ M   ┆ 0.555  ┆ 0.425    ┆ 0.13   ┆ … ┆ 0.264          ┆ 0.168          ┆ 0.275        ┆ 13    │\n",
       "│ …   ┆ …      ┆ …        ┆ …      ┆ … ┆ …              ┆ …              ┆ …            ┆ …     │\n",
       "│ M   ┆ 0.55   ┆ 0.43     ┆ 0.13   ┆ … ┆ 0.3155         ┆ 0.1955         ┆ 0.2405       ┆ 10    │\n",
       "│ M   ┆ 0.59   ┆ 0.44     ┆ 0.135  ┆ … ┆ 0.439          ┆ 0.2145         ┆ 0.2605       ┆ 10    │\n",
       "│ M   ┆ 0.6    ┆ 0.475    ┆ 0.205  ┆ … ┆ 0.5255         ┆ 0.2875         ┆ 0.308        ┆ 9     │\n",
       "│ M   ┆ 0.71   ┆ 0.555    ┆ 0.195  ┆ … ┆ 0.9455         ┆ 0.3765         ┆ 0.495        ┆ 12    │\n",
       "└─────┴────────┴──────────┴────────┴───┴────────────────┴────────────────┴──────────────┴───────┘"
      ]
     },
     "execution_count": 113,
     "metadata": {},
     "output_type": "execute_result"
    }
   ],
   "source": [
    "%%time\n",
    "#Polars\n",
    "\n",
    "df_pl.filter((pl.col('Sex') == 'M') & (pl.col('Shell weight') > pl.col('Shell weight').median()) & (pl.col('Length') > pl.col('Length').median()))"
   ]
  },
  {
   "cell_type": "code",
   "execution_count": null,
   "id": "b1e2194f",
   "metadata": {},
   "outputs": [],
   "source": [
    "#С фильтрацей оперативнее справляется Polars, чем Pandas."
   ]
  },
  {
   "cell_type": "code",
   "execution_count": 112,
   "id": "ea01a399",
   "metadata": {},
   "outputs": [],
   "source": [
    "#Агрегируем данные в датасетах по полу и количеству колец, выведя средние значения длины и диаметра, а также максимальное значение высоты."
   ]
  },
  {
   "cell_type": "code",
   "execution_count": 143,
   "id": "283b9ddf",
   "metadata": {},
   "outputs": [
    {
     "name": "stdout",
     "output_type": "stream",
     "text": [
      "CPU times: user 94.6 ms, sys: 16.4 ms, total: 111 ms\n",
      "Wall time: 123 ms\n"
     ]
    },
    {
     "data": {
      "text/html": [
       "<div>\n",
       "<style scoped>\n",
       "    .dataframe tbody tr th:only-of-type {\n",
       "        vertical-align: middle;\n",
       "    }\n",
       "\n",
       "    .dataframe tbody tr th {\n",
       "        vertical-align: top;\n",
       "    }\n",
       "\n",
       "    .dataframe thead th {\n",
       "        text-align: right;\n",
       "    }\n",
       "</style>\n",
       "<table border=\"1\" class=\"dataframe\">\n",
       "  <thead>\n",
       "    <tr style=\"text-align: right;\">\n",
       "      <th></th>\n",
       "      <th></th>\n",
       "      <th>Length</th>\n",
       "      <th>Diameter</th>\n",
       "      <th>Height</th>\n",
       "    </tr>\n",
       "    <tr>\n",
       "      <th>Sex</th>\n",
       "      <th>Rings</th>\n",
       "      <th></th>\n",
       "      <th></th>\n",
       "      <th></th>\n",
       "    </tr>\n",
       "  </thead>\n",
       "  <tbody>\n",
       "    <tr>\n",
       "      <th rowspan=\"5\" valign=\"top\">F</th>\n",
       "      <th>5</th>\n",
       "      <td>0.323750</td>\n",
       "      <td>0.241250</td>\n",
       "      <td>0.090</td>\n",
       "    </tr>\n",
       "    <tr>\n",
       "      <th>6</th>\n",
       "      <td>0.462813</td>\n",
       "      <td>0.349062</td>\n",
       "      <td>0.180</td>\n",
       "    </tr>\n",
       "    <tr>\n",
       "      <th>7</th>\n",
       "      <td>0.465952</td>\n",
       "      <td>0.364756</td>\n",
       "      <td>0.180</td>\n",
       "    </tr>\n",
       "    <tr>\n",
       "      <th>8</th>\n",
       "      <td>0.538347</td>\n",
       "      <td>0.418103</td>\n",
       "      <td>1.130</td>\n",
       "    </tr>\n",
       "    <tr>\n",
       "      <th>9</th>\n",
       "      <td>0.575303</td>\n",
       "      <td>0.447775</td>\n",
       "      <td>0.215</td>\n",
       "    </tr>\n",
       "    <tr>\n",
       "      <th>...</th>\n",
       "      <th>...</th>\n",
       "      <td>...</td>\n",
       "      <td>...</td>\n",
       "      <td>...</td>\n",
       "    </tr>\n",
       "    <tr>\n",
       "      <th rowspan=\"5\" valign=\"top\">f</th>\n",
       "      <th>15</th>\n",
       "      <td>0.555556</td>\n",
       "      <td>0.434444</td>\n",
       "      <td>0.185</td>\n",
       "    </tr>\n",
       "    <tr>\n",
       "      <th>16</th>\n",
       "      <td>0.575000</td>\n",
       "      <td>0.449000</td>\n",
       "      <td>0.230</td>\n",
       "    </tr>\n",
       "    <tr>\n",
       "      <th>17</th>\n",
       "      <td>0.692500</td>\n",
       "      <td>0.540000</td>\n",
       "      <td>0.230</td>\n",
       "    </tr>\n",
       "    <tr>\n",
       "      <th>18</th>\n",
       "      <td>0.660000</td>\n",
       "      <td>0.527500</td>\n",
       "      <td>0.190</td>\n",
       "    </tr>\n",
       "    <tr>\n",
       "      <th>20</th>\n",
       "      <td>0.630000</td>\n",
       "      <td>0.515000</td>\n",
       "      <td>0.165</td>\n",
       "    </tr>\n",
       "  </tbody>\n",
       "</table>\n",
       "<p>85 rows × 3 columns</p>\n",
       "</div>"
      ],
      "text/plain": [
       "             Length  Diameter  Height\n",
       "Sex Rings                            \n",
       "F   5      0.323750  0.241250   0.090\n",
       "    6      0.462813  0.349062   0.180\n",
       "    7      0.465952  0.364756   0.180\n",
       "    8      0.538347  0.418103   1.130\n",
       "    9      0.575303  0.447775   0.215\n",
       "...             ...       ...     ...\n",
       "f   15     0.555556  0.434444   0.185\n",
       "    16     0.575000  0.449000   0.230\n",
       "    17     0.692500  0.540000   0.230\n",
       "    18     0.660000  0.527500   0.190\n",
       "    20     0.630000  0.515000   0.165\n",
       "\n",
       "[85 rows x 3 columns]"
      ]
     },
     "execution_count": 143,
     "metadata": {},
     "output_type": "execute_result"
    }
   ],
   "source": [
    "%%time\n",
    "# Pandas\n",
    "\n",
    "df_pd.groupby(['Sex', 'Rings']).agg({'Length': 'mean', 'Diameter': 'mean', 'Height': 'max'})"
   ]
  },
  {
   "cell_type": "code",
   "execution_count": 132,
   "id": "ca777512",
   "metadata": {},
   "outputs": [
    {
     "name": "stdout",
     "output_type": "stream",
     "text": [
      "CPU times: user 888 µs, sys: 7.36 ms, total: 8.25 ms\n",
      "Wall time: 19.9 ms\n"
     ]
    }
   ],
   "source": [
    "%%time\n",
    "#Polars\n",
    "\n",
    "q = (\n",
    "    df_pl\n",
    "    .lazy()\n",
    "    .groupby([\"Rings\",\"Sex\"])\n",
    "    .agg(\n",
    "        [\n",
    "            pl.col('Length').mean(),\n",
    "            pl.col('Diameter').mean(),\n",
    "            pl.col('Height').max()\n",
    "        ]\n",
    "    )\n",
    ")"
   ]
  },
  {
   "cell_type": "code",
   "execution_count": 134,
   "id": "7cdfa3fe",
   "metadata": {},
   "outputs": [
    {
     "name": "stdout",
     "output_type": "stream",
     "text": [
      "CPU times: user 140 ms, sys: 17.5 ms, total: 157 ms\n",
      "Wall time: 38.9 ms\n"
     ]
    },
    {
     "data": {
      "text/html": [
       "<div><style>\n",
       ".dataframe > thead > tr > th,\n",
       ".dataframe > tbody > tr > td {\n",
       "  text-align: right;\n",
       "}\n",
       "</style>\n",
       "<small>shape: (85, 5)</small><table border=\"1\" class=\"dataframe\"><thead><tr><th>Rings</th><th>Sex</th><th>Length</th><th>Diameter</th><th>Height</th></tr><tr><td>i64</td><td>str</td><td>f64</td><td>f64</td><td>f64</td></tr></thead><tbody><tr><td>15</td><td>&quot;M&quot;</td><td>0.577447</td><td>0.457872</td><td>0.23</td></tr><tr><td>7</td><td>&quot;M&quot;</td><td>0.448354</td><td>0.343896</td><td>0.17</td></tr><tr><td>11</td><td>&quot;M&quot;</td><td>0.604539</td><td>0.475488</td><td>0.23</td></tr><tr><td>11</td><td>&quot;F&quot;</td><td>0.614041</td><td>0.482474</td><td>0.225</td></tr><tr><td>15</td><td>&quot;F&quot;</td><td>0.582375</td><td>0.462237</td><td>0.225</td></tr><tr><td>5</td><td>&quot;I&quot;</td><td>0.285474</td><td>0.21022</td><td>0.115</td></tr><tr><td>7</td><td>&quot;F&quot;</td><td>0.465952</td><td>0.364756</td><td>0.18</td></tr><tr><td>10</td><td>&quot;f&quot;</td><td>0.582714</td><td>0.46125</td><td>0.21</td></tr><tr><td>6</td><td>&quot;M&quot;</td><td>0.380577</td><td>0.282</td><td>0.155</td></tr><tr><td>18</td><td>&quot;M&quot;</td><td>0.591471</td><td>0.466471</td><td>0.24</td></tr><tr><td>18</td><td>&quot;F&quot;</td><td>0.606944</td><td>0.471333</td><td>0.21</td></tr><tr><td>22</td><td>&quot;M&quot;</td><td>0.608333</td><td>0.488333</td><td>0.215</td></tr><tr><td>&hellip;</td><td>&hellip;</td><td>&hellip;</td><td>&hellip;</td><td>&hellip;</td></tr><tr><td>12</td><td>&quot;I&quot;</td><td>0.51675</td><td>0.3955</td><td>0.18</td></tr><tr><td>9</td><td>&quot;f&quot;</td><td>0.538971</td><td>0.415147</td><td>0.19</td></tr><tr><td>14</td><td>&quot;I&quot;</td><td>0.531923</td><td>0.408846</td><td>0.17</td></tr><tr><td>17</td><td>&quot;I&quot;</td><td>0.587143</td><td>0.462857</td><td>0.195</td></tr><tr><td>14</td><td>&quot;F&quot;</td><td>0.594898</td><td>0.474468</td><td>0.25</td></tr><tr><td>12</td><td>&quot;M&quot;</td><td>0.597411</td><td>0.469775</td><td>0.25</td></tr><tr><td>12</td><td>&quot;F&quot;</td><td>0.594553</td><td>0.468739</td><td>0.22</td></tr><tr><td>14</td><td>&quot;M&quot;</td><td>0.5716</td><td>0.4502</td><td>0.22</td></tr><tr><td>17</td><td>&quot;M&quot;</td><td>0.603913</td><td>0.478261</td><td>0.23</td></tr><tr><td>8</td><td>&quot;f&quot;</td><td>0.492778</td><td>0.3784</td><td>0.165</td></tr><tr><td>17</td><td>&quot;F&quot;</td><td>0.595192</td><td>0.4706</td><td>0.24</td></tr><tr><td>19</td><td>&quot;I&quot;</td><td>0.485</td><td>0.3725</td><td>0.14</td></tr></tbody></table></div>"
      ],
      "text/plain": [
       "shape: (85, 5)\n",
       "┌───────┬─────┬──────────┬──────────┬────────┐\n",
       "│ Rings ┆ Sex ┆ Length   ┆ Diameter ┆ Height │\n",
       "│ ---   ┆ --- ┆ ---      ┆ ---      ┆ ---    │\n",
       "│ i64   ┆ str ┆ f64      ┆ f64      ┆ f64    │\n",
       "╞═══════╪═════╪══════════╪══════════╪════════╡\n",
       "│ 15    ┆ M   ┆ 0.577447 ┆ 0.457872 ┆ 0.23   │\n",
       "│ 7     ┆ M   ┆ 0.448354 ┆ 0.343896 ┆ 0.17   │\n",
       "│ 11    ┆ M   ┆ 0.604539 ┆ 0.475488 ┆ 0.23   │\n",
       "│ 11    ┆ F   ┆ 0.614041 ┆ 0.482474 ┆ 0.225  │\n",
       "│ …     ┆ …   ┆ …        ┆ …        ┆ …      │\n",
       "│ 17    ┆ M   ┆ 0.603913 ┆ 0.478261 ┆ 0.23   │\n",
       "│ 8     ┆ f   ┆ 0.492778 ┆ 0.3784   ┆ 0.165  │\n",
       "│ 17    ┆ F   ┆ 0.595192 ┆ 0.4706   ┆ 0.24   │\n",
       "│ 19    ┆ I   ┆ 0.485    ┆ 0.3725   ┆ 0.14   │\n",
       "└───────┴─────┴──────────┴──────────┴────────┘"
      ]
     },
     "execution_count": 134,
     "metadata": {},
     "output_type": "execute_result"
    }
   ],
   "source": [
    "%%time\n",
    "q.collect()"
   ]
  },
  {
   "cell_type": "code",
   "execution_count": null,
   "id": "bbb5a1df",
   "metadata": {},
   "outputs": [],
   "source": [
    "#Замечаем, что Polars снова справился быстрее, чем Pandas."
   ]
  }
 ],
 "metadata": {
  "kernelspec": {
   "display_name": "Python 3 (ipykernel)",
   "language": "python",
   "name": "python3"
  },
  "language_info": {
   "codemirror_mode": {
    "name": "ipython",
    "version": 3
   },
   "file_extension": ".py",
   "mimetype": "text/x-python",
   "name": "python",
   "nbconvert_exporter": "python",
   "pygments_lexer": "ipython3",
   "version": "3.9.12"
  }
 },
 "nbformat": 4,
 "nbformat_minor": 5
}
